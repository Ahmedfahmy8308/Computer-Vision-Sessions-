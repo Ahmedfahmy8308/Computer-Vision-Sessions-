{
 "cells": [
  {
   "cell_type": "code",
   "execution_count": 1,
   "metadata": {
    "ExecuteTime": {
     "end_time": "2023-11-14T01:11:00.368225700Z",
     "start_time": "2023-11-14T01:11:00.278016700Z"
    }
   },
   "outputs": [],
   "source": [
    "import cv2\n"
   ]
  },
  {
   "cell_type": "code",
   "execution_count": 2,
   "metadata": {
    "ExecuteTime": {
     "end_time": "2023-11-14T01:11:06.870216100Z",
     "start_time": "2023-11-14T01:11:06.857358500Z"
    }
   },
   "outputs": [],
   "source": [
    "boat = cv2.imread(\"Images/boat.jpg\")\n",
    "Red = cv2.imread(\"Images/RED.png\")\n",
    "Black_White1 = cv2.imread(\"Images/Black_White.png\")\n",
    "Black_White2 = cv2.imread(\"Images/Black_White2.png\")"
   ]
  },
  {
   "cell_type": "code",
   "execution_count": 3,
   "metadata": {
    "ExecuteTime": {
     "end_time": "2023-11-14T01:11:17.057419800Z",
     "start_time": "2023-11-14T01:11:17.047912100Z"
    }
   },
   "outputs": [],
   "source": [
    "#Scaling the images\n",
    "Rred = cv2.resize(Red , (720 , 600))\n",
    "Rboat = cv2.resize(boat , (720 , 600))"
   ]
  },
  {
   "cell_type": "code",
   "execution_count": 4,
   "metadata": {
    "ExecuteTime": {
     "end_time": "2023-11-14T01:11:27.070927700Z",
     "start_time": "2023-11-14T01:11:20.410304100Z"
    }
   },
   "outputs": [],
   "source": [
    "# Arithmetic operations\n",
    "add = cv2.add(Rboat , Rred) \n",
    "sub = cv2.subtract(Rboat ,Rred )\n",
    "Mul = cv2.multiply(Rboat ,Rred)\n",
    "div = cv2.divide(Rboat ,Rred)\n",
    "\n",
    "cv2.imshow(\"Frame\" , add)\n",
    "cv2.imshow(\"Frame2\" , Rboat)\n",
    "cv2.imshow(\"Frame 3\" , sub)\n",
    "cv2.imshow(\"Frame4\" , Mul)\n",
    "cv2.imshow(\"Frame 5\" , div)\n",
    "if cv2.waitKey(0) == ord('q'):\n",
    "\n",
    "    cv2.destroyAllWindows()\n"
   ]
  },
  {
   "cell_type": "code",
   "execution_count": 5,
   "metadata": {
    "ExecuteTime": {
     "end_time": "2023-11-14T01:11:30.789058200Z",
     "start_time": "2023-11-14T01:11:30.234910400Z"
    }
   },
   "outputs": [],
   "source": [
    "#bitwise operations \n",
    "\n",
    "and_Image = cv2.bitwise_and(Black_White1 , Black_White2)\n",
    "or_Image = cv2.bitwise_or(Black_White1 , Black_White2)\n",
    "not_image = cv2.bitwise_not(Black_White1)\n",
    "\n",
    "cv2.imshow(\"Black_White1\", Black_White1)\n",
    "cv2.imshow(\"Black_White2\" ,Black_White2)\n",
    "cv2.imshow(\"andFrame\" , and_Image)\n",
    "cv2.imshow(\"orFrame\" , or_Image)\n",
    "cv2.imshow(\"notFrame\" , not_image)\n",
    "\n",
    "\n",
    "if cv2.waitKey(0) == ord('q'):\n",
    "\n",
    "    cv2.destroyAllWindows()\n",
    "\n"
   ]
  }
 ],
 "metadata": {
  "kernelspec": {
   "display_name": "CV2",
   "language": "python",
   "name": "python3"
  },
  "language_info": {
   "codemirror_mode": {
    "name": "ipython",
    "version": 3
   },
   "file_extension": ".py",
   "mimetype": "text/x-python",
   "name": "python",
   "nbconvert_exporter": "python",
   "pygments_lexer": "ipython3",
   "version": "3.6.13"
  }
 },
 "nbformat": 4,
 "nbformat_minor": 2
}
