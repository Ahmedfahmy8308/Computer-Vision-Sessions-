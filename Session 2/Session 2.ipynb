{
 "cells": [
  {
   "cell_type": "markdown",
   "metadata": {
    "is_executing": true
   },
   "source": [
    "import cv2\n",
    "import matplotlib.pyplot as plt\n"
   ]
  },
  {
   "cell_type": "code",
   "execution_count": null,
   "metadata": {},
   "outputs": [],
   "source": [
    "import cv2\n",
    "import matplotlib.pyplot as plt\n",
    "from matplotlib.image import imread "
   ]
  },
  {
   "cell_type": "code",
   "execution_count": null,
   "metadata": {
    "is_executing": true
   },
   "outputs": [],
   "source": [
    "#Read Imgs \n",
    "boat = imread(r\"Photos\\boat.jpg\")\n",
    "red = imread(\"Photos/RED.png\")\n",
    "Strawberries = imread(\"Photos/Strawberries.jpg\")\n",
    "tumor = imread(\"Photos/tumor.jpg\")\n",
    "vid = cv2.VideoCapture(r\"Photos/vid.mp4\")"
   ]
  },
  {
   "cell_type": "code",
   "execution_count": null,
   "metadata": {},
   "outputs": [],
   "source": [
    "print (boat.shape ,end=\"\\n\\n\")\n",
    "plt.imshow(boat)\n"
   ]
  },
  {
   "cell_type": "code",
   "execution_count": null,
   "metadata": {},
   "outputs": [],
   "source": [
    "\n",
    "print(\"Bfore\")\n",
    "print (red.shape)\n",
    "plt.imshow( red)\n"
   ]
  },
  {
   "cell_type": "code",
   "execution_count": null,
   "metadata": {},
   "outputs": [],
   "source": [
    "RRed = cv2.resize(red , (720, 600))\n",
    "print(\"After\")\n",
    "print (RRed.shape)\n",
    "plt.imshow(RRed)\n"
   ]
  },
  {
   "cell_type": "code",
   "execution_count": null,
   "metadata": {},
   "outputs": [
    {
     "ename": "",
     "evalue": "",
     "output_type": "error",
     "traceback": [
      "\u001b[1;31mThe Kernel crashed while executing code in the the current cell or a previous cell. Please review the code in the cell(s) to identify a possible cause of the failure. Click <a href='https://aka.ms/vscodeJupyterKernelCrash'>here</a> for more info. View Jupyter <a href='command:jupyter.viewOutput'>log</a> for further details."
     ]
    }
   ],
   "source": [
    "if not vid.isOpened() :\n",
    "  vid.cv2.Videocapture(0)\n",
    "if not vid.isOpened() :\n",
    "  raise IOError(\"Can not open video\")\n",
    "while True :\n",
    "  _ , frame = vid.read()\n",
    "  cv2.imshow(\"  \" , frame)\n",
    "  if cv2.waitKey(2)&0Xff == ord('q') :\n",
    "    break\n",
    "\n",
    "vid.release()\n",
    "cv2.destroyAllWindows()"
   ]
  },
  {
   "cell_type": "code",
   "execution_count": null,
   "metadata": {},
   "outputs": [],
   "source": []
  }
 ],
 "metadata": {
  "kernelspec": {
   "display_name": "CV2",
   "language": "python",
   "name": "python3"
  },
  "language_info": {
   "codemirror_mode": {
    "name": "ipython",
    "version": 3
   },
   "file_extension": ".py",
   "mimetype": "text/x-python",
   "name": "python",
   "nbconvert_exporter": "python",
   "pygments_lexer": "ipython3",
   "version": "3.11.3"
  }
 },
 "nbformat": 4,
 "nbformat_minor": 2
}
